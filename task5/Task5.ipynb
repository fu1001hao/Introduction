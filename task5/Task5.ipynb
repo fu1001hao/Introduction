{
 "cells": [
  {
   "cell_type": "code",
   "execution_count": 26,
   "metadata": {},
   "outputs": [],
   "source": [
    "import numpy as np\n",
    "import open3d as o3d\n",
    "import matplotlib.pyplot as plt\n",
    "from mpl_toolkits.mplot3d import Axes3D"
   ]
  },
  {
   "cell_type": "code",
   "execution_count": 27,
   "metadata": {},
   "outputs": [
    {
     "name": "stdout",
     "output_type": "stream",
     "text": [
      "geometry::PointCloud with 271983 points.\n",
      "[[-0.44703168 -0.30711567  0.79800004]\n",
      " [-0.44451565 -0.30634597  0.79600006]\n",
      " [-0.44312003 -0.30634597  0.79600006]\n",
      " ...\n",
      " [ 0.24811688  0.22288465  0.53300005]\n",
      " [ 0.24905139  0.22288465  0.53300005]\n",
      " [ 0.24998593  0.22288465  0.53300005]] (271983, 3)\n"
     ]
    }
   ],
   "source": [
    "pcd = o3d.io.read_point_cloud(\"record_00348.pcd\")\n",
    "print(pcd)\n",
    "data =np.asarray(pcd.points)\n",
    "print(data, data.shape)"
   ]
  },
  {
   "cell_type": "code",
   "execution_count": 28,
   "metadata": {},
   "outputs": [],
   "source": [
    "def Find_Plane(p1, p2, p3):\n",
    "    \n",
    "    x1 , y1, z1= p2[0]- p1[0], p2[1]- p1[1], p2[2]- p1[2]\n",
    "    \n",
    "    x2 , y2, z2= p2[0]- p3[0], p2[1]- p3[1], p2[2]- p3[2]\n",
    "    \n",
    "    b = (x1*y2 - x2*y1)/(z1*y2- z2*y1)\n",
    "    \n",
    "    a = (x1 - b*z1)/y1\n",
    "    \n",
    "    c = p1[0]-a*p1[1]-b*p1[2]\n",
    "    \n",
    "    return a, b, c\n",
    "\n",
    "def Check(data, a, b, c, thre):\n",
    "    \n",
    "    count = 0\n",
    "    \n",
    "    for point in data:\n",
    "        \n",
    "        if np.abs(point[0]-a*point[1]-b*point[2]-c)< thre:\n",
    "            \n",
    "            count=count+1\n",
    "            \n",
    "    return count\n",
    "\n",
    "def Draw(data, a, b, c, thre):\n",
    "    \n",
    "    Ps = []\n",
    "    for point in data:\n",
    "        \n",
    "        if np.abs(point[0]-a*point[1]-b*point[2]-c)< thre:\n",
    "            \n",
    "            Ps.append(point)\n",
    "            \n",
    "    return np.array(Ps)"
   ]
  },
  {
   "cell_type": "code",
   "execution_count": 31,
   "metadata": {},
   "outputs": [
    {
     "name": "stdout",
     "output_type": "stream",
     "text": [
      "222303\n",
      "[-7.639110826366834, -5.614288585794924, 4.962794045016753]\n"
     ]
    }
   ],
   "source": [
    "N , s , thre = 10, 3, 1e-1\n",
    "\n",
    "num = -1\n",
    "for i in range(N):\n",
    "    \n",
    "    np.random.shuffle(data)\n",
    "    a, b, c = Find_Plane(data[0], data[1], data[2])\n",
    "    \n",
    "    num_cur = Check(data, a, b, c, thre)\n",
    "    \n",
    "    if num_cur > num:\n",
    "        \n",
    "        num = num_cur\n",
    "        \n",
    "        Points = [a, b, c]\n",
    "        \n",
    "print(num)\n",
    "print(Points)"
   ]
  },
  {
   "cell_type": "code",
   "execution_count": 34,
   "metadata": {},
   "outputs": [],
   "source": [
    "Ps = Draw(data, Points[0], Points[1], Points[2], thre)\n",
    "pcd = o3d.geometry.PointCloud()\n",
    "pcd.points = o3d.utility.Vector3dVector(Ps)\n",
    "o3d.visualization.draw_geometries([pcd])"
   ]
  },
  {
   "cell_type": "code",
   "execution_count": null,
   "metadata": {},
   "outputs": [],
   "source": []
  }
 ],
 "metadata": {
  "kernelspec": {
   "display_name": "Python 3",
   "language": "python",
   "name": "python3"
  },
  "language_info": {
   "codemirror_mode": {
    "name": "ipython",
    "version": 3
   },
   "file_extension": ".py",
   "mimetype": "text/x-python",
   "name": "python",
   "nbconvert_exporter": "python",
   "pygments_lexer": "ipython3",
   "version": "3.7.4"
  }
 },
 "nbformat": 4,
 "nbformat_minor": 2
}
